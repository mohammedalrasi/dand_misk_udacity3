{
 "cells": [
  {
   "cell_type": "markdown",
   "metadata": {},
   "source": [
    "# 2016 US Bike Share Activity Snapshot\n",
    "\n",
    "## Table of Contents\n",
    "- [Introduction](#intro)\n",
    "- [Posing Questions](#pose_questions)\n",
    "- [Data Collection and Wrangling](#wrangling)\n",
    "  - [Condensing the Trip Data](#condensing)\n",
    "- [Exploratory Data Analysis](#eda)\n",
    "  - [Statistics](#statistics)\n",
    "  - [Visualizations](#visualizations)\n",
    "- [Performing Your Own Analysis](#eda_continued)\n",
    "- [Conclusions](#conclusions)\n",
    "\n",
    "<a id='intro'></a>\n",
    "## Introduction\n",
    "\n",
    "> **Tip**: Quoted sections like this will provide helpful instructions on how to navigate and use a Jupyter notebook.\n",
    "\n",
    "Over the past decade, bicycle-sharing systems have been growing in number and popularity in cities across the world. Bicycle-sharing systems allow users to rent bicycles for short trips, typically 30 minutes or less. Thanks to the rise in information technologies, it is easy for a user of the system to access a dock within the system to unlock or return bicycles. These technologies also provide a wealth of data that can be used to explore how these bike-sharing systems are used.\n",
    "\n",
    "In this project, you will perform an exploratory analysis on data provided by [Motivate](https://www.motivateco.com/), a bike-share system provider for many major cities in the United States. You will compare the system usage between three large cities: New York City, Chicago, and Washington, DC. You will also see if there are any differences within each system for those users that are registered, regular users and those users that are short-term, casual users."
   ]
  },
  {
   "cell_type": "markdown",
   "metadata": {},
   "source": [
    "<a id='pose_questions'></a>\n",
    "## Posing Questions\n",
    "\n",
    "Before looking at the bike sharing data, you should start by asking questions you might want to understand about the bike share data. Consider, for example, if you were working for Motivate. What kinds of information would you want to know about in order to make smarter business decisions? If you were a user of the bike-share service, what factors might influence how you would want to use the service?\n",
    "\n",
    "**Question 1**: Write at least two questions related to bike sharing that you think could be answered by data.\n",
    "\n",
    "**Answer**: <br>\n",
    "Which city have the most trips?<br>\n",
    "Which city have the most customers?\n",
    "\n",
    "> **Tip**: If you double click on this cell, you will see the text change so that all of the formatting is removed. This allows you to edit this block of text. This block of text is written using [Markdown](http://daringfireball.net/projects/markdown/syntax), which is a way to format text using headers, links, italics, and many other options using a plain-text syntax. You will also use Markdown later in the Nanodegree program. Use **Shift** + **Enter** or **Shift** + **Return** to run the cell and show its rendered form."
   ]
  },
  {
   "cell_type": "markdown",
   "metadata": {},
   "source": [
    "<a id='wrangling'></a>\n",
    "## Data Collection and Wrangling\n",
    "\n",
    "Now it's time to collect and explore our data. In this project, we will focus on the record of individual trips taken in 2016 from our selected cities: New York City, Chicago, and Washington, DC. Each of these cities has a page where we can freely download the trip data.:\n",
    "\n",
    "- New York City (Citi Bike): [Link](https://www.citibikenyc.com/system-data)\n",
    "- Chicago (Divvy): [Link](https://www.divvybikes.com/system-data)\n",
    "- Washington, DC (Capital Bikeshare): [Link](https://www.capitalbikeshare.com/system-data)\n",
    "\n",
    "If you visit these pages, you will notice that each city has a different way of delivering its data. Chicago updates with new data twice a year, Washington DC is quarterly, and New York City is monthly. **However, you do not need to download the data yourself.** The data has already been collected for you in the `/data/` folder of the project files. While the original data for 2016 is spread among multiple files for each city, the files in the `/data/` folder collect all of the trip data for the year into one file per city. Some data wrangling of inconsistencies in timestamp format within each city has already been performed for you. In addition, a random 2% sample of the original data is taken to make the exploration more manageable. \n",
    "\n",
    "**Question 2**: However, there is still a lot of data for us to investigate, so it's a good idea to start off by looking at one entry from each of the cities we're going to analyze. Run the first code cell below to load some packages and functions that you'll be using in your analysis. Then, complete the second code cell to print out the first trip recorded from each of the cities (the second line of each data file).\n",
    "\n",
    "> **Tip**: You can run a code cell like you formatted Markdown cells above by clicking on the cell and using the keyboard shortcut **Shift** + **Enter** or **Shift** + **Return**. Alternatively, a code cell can be executed using the **Play** button in the toolbar after selecting it. While the cell is running, you will see an asterisk in the message to the left of the cell, i.e. `In [*]:`. The asterisk will change into a number to show that execution has completed, e.g. `In [1]`. If there is output, it will show up as `Out [1]:`, with an appropriate number to match the \"In\" number."
   ]
  },
  {
   "cell_type": "code",
   "execution_count": 1,
   "metadata": {},
   "outputs": [],
   "source": [
    "## import all necessary packages and functions.\n",
    "import csv # read and write csv files\n",
    "from datetime import datetime # operations to parse dates\n",
    "from pprint import pprint # use to print data structures like dictionaries in\n",
    "                          # a nicer way than the base print function."
   ]
  },
  {
   "cell_type": "code",
   "execution_count": 3,
   "metadata": {},
   "outputs": [
    {
     "name": "stdout",
     "output_type": "stream",
     "text": [
      "\n",
      "City: NYC\n",
      "OrderedDict([('tripduration', '839'),\n",
      "             ('starttime', '1/1/2016 00:09:55'),\n",
      "             ('stoptime', '1/1/2016 00:23:54'),\n",
      "             ('start station id', '532'),\n",
      "             ('start station name', 'S 5 Pl & S 4 St'),\n",
      "             ('start station latitude', '40.710451'),\n",
      "             ('start station longitude', '-73.960876'),\n",
      "             ('end station id', '401'),\n",
      "             ('end station name', 'Allen St & Rivington St'),\n",
      "             ('end station latitude', '40.72019576'),\n",
      "             ('end station longitude', '-73.98997825'),\n",
      "             ('bikeid', '17109'),\n",
      "             ('usertype', 'Customer'),\n",
      "             ('birth year', ''),\n",
      "             ('gender', '0')])\n",
      "\n",
      "City: Chicago\n",
      "OrderedDict([('trip_id', '9080545'),\n",
      "             ('starttime', '3/31/2016 23:30'),\n",
      "             ('stoptime', '3/31/2016 23:46'),\n",
      "             ('bikeid', '2295'),\n",
      "             ('tripduration', '926'),\n",
      "             ('from_station_id', '156'),\n",
      "             ('from_station_name', 'Clark St & Wellington Ave'),\n",
      "             ('to_station_id', '166'),\n",
      "             ('to_station_name', 'Ashland Ave & Wrightwood Ave'),\n",
      "             ('usertype', 'Subscriber'),\n",
      "             ('gender', 'Male'),\n",
      "             ('birthyear', '1990')])\n",
      "\n",
      "City: Washington\n",
      "OrderedDict([('Duration (ms)', '427387'),\n",
      "             ('Start date', '3/31/2016 22:57'),\n",
      "             ('End date', '3/31/2016 23:04'),\n",
      "             ('Start station number', '31602'),\n",
      "             ('Start station', 'Park Rd & Holmead Pl NW'),\n",
      "             ('End station number', '31207'),\n",
      "             ('End station', 'Georgia Ave and Fairmont St NW'),\n",
      "             ('Bike number', 'W20842'),\n",
      "             ('Member Type', 'Registered')])\n"
     ]
    }
   ],
   "source": [
    "def print_first_point(filename):\n",
    "    \"\"\"\n",
    "    This function prints and returns the first data point (second row) from\n",
    "    a csv file that includes a header row.\n",
    "    \"\"\"\n",
    "    # print city name for reference\n",
    "    city = filename.split('-')[0].split('/')[-1]\n",
    "    print('\\nCity: {}'.format(city))\n",
    "    \n",
    "    with open(filename, 'r') as f_in:\n",
    "        ## Use the csv library to set up a DictReader object. ##\n",
    "        trip_reader = csv.DictReader(f_in)\n",
    "        \n",
    "        ## TODO: Use a function on the DictReader object to read the     ##\n",
    "        ## first trip from the data file and store it in a variable.     ##\n",
    "        ## see https://docs.python.org/3/library/csv.html#reader-objects ##\n",
    "        first_trip = next(trip_reader)\n",
    "        \n",
    "        ## TODO: Use the pprint library to print the first trip. ##\n",
    "        pprint(first_trip)\n",
    "        \n",
    "    # output city name and first trip for later testing\n",
    "    return (city, first_trip)\n",
    "\n",
    "# list of files for each city\n",
    "data_files = ['./data/NYC-CitiBike-2016.csv',\n",
    "              './data/Chicago-Divvy-2016.csv',\n",
    "              './data/Washington-CapitalBikeshare-2016.csv',]\n",
    "\n",
    "# print the first trip from each file, store in dictionary\n",
    "example_trips = {}\n",
    "for data_file in data_files:\n",
    "    city, first_trip = print_first_point(data_file)\n",
    "    example_trips[city] = first_trip"
   ]
  },
  {
   "cell_type": "markdown",
   "metadata": {},
   "source": [
    "If everything has been filled out correctly, you should see below the printout of each city name (which has been parsed from the data file name) that the first trip has been parsed in the form of a dictionary. When you set up a `DictReader` object, the first row of the data file is normally interpreted as column names. Every other row in the data file will use those column names as keys, as a dictionary is generated for each row.\n",
    "\n",
    "This will be useful since we can refer to quantities by an easily-understandable label instead of just a numeric index. For example, if we have a trip stored in the variable `row`, then we would rather get the trip duration from `row['duration']` instead of `row[0]`.\n",
    "\n",
    "<a id='condensing'></a>\n",
    "### Condensing the Trip Data\n",
    "\n",
    "It should also be observable from the above printout that each city provides different information. Even where the information is the same, the column names and formats are sometimes different. To make things as simple as possible when we get to the actual exploration, we should trim and clean the data. Cleaning the data makes sure that the data formats across the cities are consistent, while trimming focuses only on the parts of the data we are most interested in to make the exploration easier to work with.\n",
    "\n",
    "You will generate new data files with five values of interest for each trip: trip duration, starting month, starting hour, day of the week, and user type. Each of these may require additional wrangling depending on the city:\n",
    "\n",
    "- **Duration**: This has been given to us in seconds (New York, Chicago) or milliseconds (Washington). A more natural unit of analysis will be if all the trip durations are given in terms of minutes.\n",
    "- **Month**, **Hour**, **Day of Week**: Ridership volume is likely to change based on the season, time of day, and whether it is a weekday or weekend. Use the start time of the trip to obtain these values. The New York City data includes the seconds in their timestamps, while Washington and Chicago do not. The [`datetime`](https://docs.python.org/3/library/datetime.html) package will be very useful here to make the needed conversions.\n",
    "- **User Type**: It is possible that users who are subscribed to a bike-share system will have different patterns of use compared to users who only have temporary passes. Washington divides its users into two types: 'Registered' for users with annual, monthly, and other longer-term subscriptions, and 'Casual', for users with 24-hour, 3-day, and other short-term passes. The New York and Chicago data uses 'Subscriber' and 'Customer' for these groups, respectively. For consistency, you will convert the Washington labels to match the other two.\n",
    "\n",
    "\n",
    "**Question 3a**: Complete the helper functions in the code cells below to address each of the cleaning tasks described above."
   ]
  },
  {
   "cell_type": "code",
   "execution_count": 4,
   "metadata": {},
   "outputs": [],
   "source": [
    "def duration_in_mins(datum, city):\n",
    "    \"\"\"\n",
    "    Takes as input a dictionary containing info about a single trip (datum) and\n",
    "    its origin city (city) and returns the trip duration in units of minutes.\n",
    "    \"\"\"\n",
    "    \n",
    "    # Look up trip duration\n",
    "    if city == 'NYC':\n",
    "        duration = int(datum['tripduration'])\n",
    "        \n",
    "    elif city == 'Chicago':\n",
    "        duration = int(datum['tripduration'])\n",
    "        \n",
    "    else:\n",
    "        duration = int(datum['Duration (ms)'])/1000\n",
    "    \n",
    "    return duration/60"
   ]
  },
  {
   "cell_type": "code",
   "execution_count": 5,
   "metadata": {},
   "outputs": [],
   "source": [
    "def time_of_trip(datum, city):\n",
    "    \"\"\"\n",
    "    Takes as input a dictionary containing info about a single trip (datum) and\n",
    "    its origin city (city) and returns the month, hour, and day of the week in\n",
    "    which the trip was made.\n",
    "    \"\"\"\n",
    "    \n",
    "    if city == 'Chicago':\n",
    "        ChicDate=datetime.strptime((datum['starttime']), \"%m/%d/%Y %H:%M\")\n",
    "        month = int(ChicDate.strftime(\"%m\")) \n",
    "        hour = int(ChicDate.strftime(\"%H\"))\n",
    "        day_of_week = ChicDate.strftime(\"%A\")\n",
    "    elif city =='NYC':\n",
    "        NYCdate = datetime.strptime((datum['starttime']), \"%m/%d/%Y %H:%M:%S\")\n",
    "        month = int(NYCdate.strftime(\"%m\"))\n",
    "        hour = int(NYCdate.strftime(\"%H\"))\n",
    "        day_of_week = NYCdate.strftime(\"%A\")\n",
    "    else:\n",
    "        WashDate = datetime.strptime((datum['Start date']), \"%m/%d/%Y %H:%M\")\n",
    "        month = int(WashDate.strftime(\"%m\"))\n",
    "        hour = int(WashDate.strftime(\"%H\"))\n",
    "        day_of_week = WashDate.strftime(\"%A\")\n",
    "    return (month, hour, day_of_week)\n",
    "\n",
    "\n",
    "# Some tests to check that your code works. There should be no output if all of\n",
    "# the assertions pass. The `example_trips` dictionary was obtained from when\n",
    "# you printed the first trip from each of the original data files.\n",
    "tests = {'NYC': (1, 0, 'Friday'),\n",
    "        'Chicago': (3, 23, 'Thursday'),\n",
    "        'Washington': (3, 22, 'Thursday')}\n",
    "\n",
    "for city in tests:\n",
    "   assert time_of_trip(example_trips[city], city) == tests[city]\n"
   ]
  },
  {
   "cell_type": "code",
   "execution_count": 6,
   "metadata": {},
   "outputs": [],
   "source": [
    "def type_of_user(datum, city):\n",
    "    \"\"\"\n",
    "    Takes as input a dictionary containing info about a single trip (datum) and\n",
    "    its origin city (city) and returns the type of system user that made the\n",
    "    trip.\n",
    "    \n",
    "    Remember that Washington has different category names compared to Chicago\n",
    "    and NYC. \n",
    "    \"\"\"\n",
    "    \n",
    "    # YOUR CODE HERE\n",
    "    example_trips=[]\n",
    "    if city == 'Washington':  # it is executing for Washington ONLY.\n",
    "        if datum['Member Type'] == 'Registered':\n",
    "            return 'Subscriber'\n",
    "        elif datum['Member Type']:\n",
    "            return 'Customer'\n",
    "    \n",
    "    return datum['usertype'] # it is executing for NYC ONLY.\n",
    "\n",
    "\n",
    "# Some tests to check that your code works. There should be no output if all of\n",
    "# the assertions pass. The `example_trips` dictionary was obtained from when\n",
    "# you printed the first trip from each of the original data files.\n",
    "tests = {'NYC': 'Customer',\n",
    "         'Chicago': 'Subscriber',\n",
    "         'Washington': 'Subscriber'}\n",
    "\n",
    "for city in tests:\n",
    "    assert type_of_user(example_trips[city], city) == tests[city]"
   ]
  },
  {
   "cell_type": "markdown",
   "metadata": {},
   "source": [
    "**Question 3b**: Now, use the helper functions you wrote above to create a condensed data file for each city consisting only of the data fields indicated above. In the `/examples/` folder, you will see an example datafile from the [Bay Area Bike Share](http://www.bayareabikeshare.com/open-data) before and after conversion. Make sure that your output is formatted to be consistent with the example file."
   ]
  },
  {
   "cell_type": "code",
   "execution_count": 7,
   "metadata": {},
   "outputs": [],
   "source": [
    "def condense_data(in_file, out_file, city):\n",
    "    \"\"\"\n",
    "    This function takes full data from the specified input file\n",
    "    and writes the condensed data to a specified output file. The city\n",
    "    argument determines how the input file will be parsed.\n",
    "    \n",
    "    HINT: See the cell below to see how the arguments are structured!\n",
    "    \"\"\"\n",
    "    \n",
    "    with open(out_file, 'w') as f_out, open(in_file, 'r') as f_in:\n",
    "        # Set up csv DictWriter object - writer requires column names for the\n",
    "        # First row as the \"fieldnames\" argument\n",
    "        out_colnames = ['duration', 'month', 'hour', 'day_of_week', 'user_type']        \n",
    "        trip_writer = csv.DictWriter(f_out, fieldnames = out_colnames)\n",
    "        trip_writer.writeheader()\n",
    "        trip_reader = csv.DictReader(f_in)\n",
    "        \n",
    "\n",
    "        \n",
    "        # Collect data from and process each row\n",
    "        for row in trip_reader:\n",
    "            # Set up a dictionary to hold the values for the cleaned and trimmed\n",
    "            # data points\n",
    "            new_point = {}\n",
    "            duration = duration_in_mins(row,city)\n",
    "            month, hour, day_of_week = time_of_trip(row, city)\n",
    "            user_type= type_of_user(row, city)\n",
    "            new_point['duration'] = duration\n",
    "            new_point['month'] = month\n",
    "            new_point['hour'] = hour\n",
    "            new_point['day_of_week'] = day_of_week\n",
    "            new_point['user_type'] = user_type\n",
    "            \n",
    "            # Write row to new csv file\n",
    "            trip_writer.writerow(new_point)"
   ]
  },
  {
   "cell_type": "code",
   "execution_count": 8,
   "metadata": {
    "scrolled": true
   },
   "outputs": [
    {
     "name": "stdout",
     "output_type": "stream",
     "text": [
      "\n",
      "City: Washington\n",
      "OrderedDict([('duration', '7.123116666666666'),\n",
      "             ('month', '3'),\n",
      "             ('hour', '22'),\n",
      "             ('day_of_week', 'Thursday'),\n",
      "             ('user_type', 'Subscriber')])\n",
      "\n",
      "City: Chicago\n",
      "OrderedDict([('duration', '15.433333333333334'),\n",
      "             ('month', '3'),\n",
      "             ('hour', '23'),\n",
      "             ('day_of_week', 'Thursday'),\n",
      "             ('user_type', 'Subscriber')])\n",
      "\n",
      "City: NYC\n",
      "OrderedDict([('duration', '13.983333333333333'),\n",
      "             ('month', '1'),\n",
      "             ('hour', '0'),\n",
      "             ('day_of_week', 'Friday'),\n",
      "             ('user_type', 'Customer')])\n"
     ]
    }
   ],
   "source": [
    "# Run this cell to check your work\n",
    "city_info = {'Washington': {'in_file': './data/Washington-CapitalBikeshare-2016.csv',\n",
    "                            'out_file': './data/Washington-2016-Summary.csv'},\n",
    "             'Chicago': {'in_file': './data/Chicago-Divvy-2016.csv',\n",
    "                         'out_file': './data/Chicago-2016-Summary.csv'},\n",
    "             'NYC': {'in_file': './data/NYC-CitiBike-2016.csv',\n",
    "                     'out_file': './data/NYC-2016-Summary.csv'}}\n",
    "\n",
    "for city, filename in city_info.items():\n",
    "    condense_data(filename['in_file'], filename['out_file'], city)\n",
    "    print_first_point(filename['out_file'])"
   ]
  },
  {
   "cell_type": "markdown",
   "metadata": {},
   "source": [
    "> **Tip**: If you save a jupyter Notebook, the output from running code blocks will also be saved. However, the state of your workspace will be reset once a new session is started. Make sure that you run all of the necessary code blocks from your previous session to reestablish variables and functions before picking up where you last left off.\n",
    "\n",
    "<a id='eda'></a>\n",
    "## Exploratory Data Analysis\n",
    "\n",
    "Now that you have the data collected and wrangled, you're ready to start exploring the data. In this section you will write some code to compute descriptive statistics from the data. You will also be introduced to the `matplotlib` library to create some basic histograms of the data.\n",
    "\n",
    "<a id='statistics'></a>\n",
    "### Statistics\n",
    "\n",
    "First, let's compute some basic counts. The first cell below contains a function that uses the csv module to iterate through a provided data file, returning the number of trips made by subscribers and customers. The second cell runs this function on the example Bay Area data in the `/examples/` folder. Modify the cells to answer the question below.\n",
    "\n",
    "**Question 4a**: Which city has the highest number of trips? Which city has the highest proportion of trips made by subscribers? Which city has the highest proportion of trips made by short-term customers?\n",
    "\n",
    "**Answer**: <br>NYC Subscribers: 245896. And Customers: 30902. The total cutstomers: 276798 <br>\n",
    "Washington City Subscribers: 245896. And Customers: 14573. The total cutstomers: 66326<br>\n",
    "Chicago City Subscribers: 245896. And Customers: 17149. The total cutstomers: 72131<br>\n",
    "The city that have the most trips is NYC which have 276798<br>\n",
    "The city that have the most Customers is NYC which have 30902<br>\n",
    "Highest Proportion of Subscribers is 88.83590199351151 for NYC <br>\n",
    "Highest Proportion of Customers is 23.774798630269924 for Chicago City<br>"
   ]
  },
  {
   "cell_type": "code",
   "execution_count": 8,
   "metadata": {},
   "outputs": [],
   "source": [
    "def number_of_trips(filename):\n",
    "    \"\"\"\n",
    "    This function reads in a file with trip data and reports the number of\n",
    "    trips made by subscribers, customers, and total overall.\n",
    "    \"\"\"\n",
    "    with open(filename, 'r') as f_in:\n",
    "        # set up csv reader object\n",
    "        reader = csv.DictReader(f_in)\n",
    "        \n",
    "        # initialize count variables\n",
    "        n_subscribers = 0\n",
    "        n_customers = 0\n",
    "        \n",
    "        # tally up ride types\n",
    "        for row in reader:\n",
    "            if row['user_type'] == 'Subscriber':\n",
    "                n_subscribers += 1\n",
    "            else:\n",
    "                n_customers += 1\n",
    "        \n",
    "        # compute total number of rides\n",
    "        n_total = n_subscribers + n_customers\n",
    "        \n",
    "        # return tallies as a tuple\n",
    "        return(n_subscribers, n_customers, n_total)"
   ]
  },
  {
   "cell_type": "code",
   "execution_count": 9,
   "metadata": {},
   "outputs": [
    {
     "name": "stdout",
     "output_type": "stream",
     "text": [
      "NYC Subscribers: 245896. And Customers: 30902. The total cutstomers: 276798\n",
      "Washington City Subscribers: 245896. And Customers: 14573. The total cutstomers: 66326\n",
      "Chicago City Subscribers: 245896. And Customers: 17149. The total cutstomers: 72131\n",
      "The city that have the most trips is NYC which have 276798\n",
      "The city that have the most Customers is NYC which have 30902\n",
      "Highest Proportion of Subscribers is 88.83590199351151 for NYC \n",
      "Highest Proportion of Customers is 23.774798630269924 for Chicago City\n"
     ]
    }
   ],
   "source": [
    "## Modify this and the previous cell to answer Question 4a. Remember to run ##\n",
    "## the function on the cleaned data files you created from Question 3.      ##\n",
    "Wash_file = './data/Washington-2016-Summary.csv'\n",
    "NYC_file = './data/NYC-2016-Summary.csv'\n",
    "Chic_file = './data/Chicago-2016-Summary.csv'\n",
    "\n",
    "data_file = './examples/BayArea-Y3-Summary.csv'\n",
    "#print(number_of_trips(data_file))\n",
    "\n",
    "print('NYC Subscribers: {}. And Customers: {}. The total cutstomers: {}'.format(number_of_trips(NYC_file)[0], number_of_trips(NYC_file)[1], number_of_trips(NYC_file)[2]))\n",
    "print('Washington City Subscribers: {}. And Customers: {}. The total cutstomers: {}'.format(number_of_trips(NYC_file)[0], number_of_trips(Wash_file)[1], number_of_trips(Wash_file)[2]))\n",
    "print('Chicago City Subscribers: {}. And Customers: {}. The total cutstomers: {}'.format(number_of_trips(NYC_file)[0], number_of_trips(Chic_file)[1], number_of_trips(Chic_file)[2]))\n",
    "\n",
    "print('The city that have the most trips is NYC which have {}'.format(max(number_of_trips(Chic_file)[2],number_of_trips(NYC_file)[2],number_of_trips(Wash_file)[2])))\n",
    "print('The city that have the most Customers is NYC which have {}'.format(max(number_of_trips(Chic_file)[1],number_of_trips(NYC_file)[1],number_of_trips(Wash_file)[1])))\n",
    "\n",
    "\n",
    "MaxSubForCity=[100 *number_of_trips(NYC_file)[0]/number_of_trips(NYC_file)[2],100 *number_of_trips(Chic_file)[0]/number_of_trips(Chic_file)[2],100 *number_of_trips(Wash_file)[0]/number_of_trips(Wash_file)[2]]\n",
    "MaxCusForCity=[100 *number_of_trips(NYC_file)[1]/number_of_trips(NYC_file)[2],100 *number_of_trips(Chic_file)[1]/number_of_trips(Chic_file)[2],100 *number_of_trips(Wash_file)[1]/number_of_trips(Wash_file)[2]]\n",
    "\n",
    "maxCitySubIndex= MaxSubForCity.index(max(MaxSubForCity))\n",
    "maxCityCusIndex= MaxCusForCity.index(max(MaxCusForCity))\n",
    "\n",
    "if maxCitySubIndex == 0:\n",
    "    maxCitySub = 'NYC'\n",
    "elif maxCitySubIndex ==1:\n",
    "    maxCitySub = 'Chicago City'\n",
    "else:\n",
    "    maxCitySub = 'Washington DC'\n",
    "    \n",
    "\n",
    "if maxCityCusIndex == 0:\n",
    "    maxCityCus = 'NYC'\n",
    "elif maxCityCusIndex ==1:\n",
    "    maxCityCus = 'Chicago City'\n",
    "else:\n",
    "    maxCityCus = 'Washington DC'\n",
    "    \n",
    "\n",
    "print ('Highest Proportion of Subscribers is {} for {} ' .format(max(MaxSubForCity),maxCitySub))\n",
    "print ('Highest Proportion of Customers is {} for {}'.format(max(MaxCusForCity),maxCityCus))\n",
    "\n"
   ]
  },
  {
   "cell_type": "markdown",
   "metadata": {},
   "source": [
    "> **Tip**: In order to add additional cells to a notebook, you can use the \"Insert Cell Above\" and \"Insert Cell Below\" options from the menu bar above. There is also an icon in the toolbar for adding new cells, with additional icons for moving the cells up and down the document. By default, new cells are of the code type; you can also specify the cell type (e.g. Code or Markdown) of selected cells from the Cell menu or the dropdown in the toolbar.\n",
    "\n",
    "Now, you will write your own code to continue investigating properties of the data.\n",
    "\n",
    "**Question 4b**: Bike-share systems are designed for riders to take short trips. Most of the time, users are allowed to take trips of 30 minutes or less with no additional charges, with overage charges made for trips of longer than that duration. What is the average trip length for each city? What proportion of rides made in each city are longer than 30 minutes?\n",
    "\n",
    "**Answer**: <br>\n",
    "Averge trip length for Washington DC is 18.93 mins. <br>\n",
    "Averge trip length for NYC is 15.81 mins. <br>\n",
    "Averge trip length for Chicago is 16.56 mins. <br> <hr>\n",
    "Proportion for long rides Washington DC is 18.93%. <br>\n",
    "Proportion for long rides for NYC is 15.81%. <br>\n",
    "Proportion for long rides for Chicago is 16.56%."
   ]
  },
  {
   "cell_type": "code",
   "execution_count": 10,
   "metadata": {
    "scrolled": true
   },
   "outputs": [
    {
     "name": "stdout",
     "output_type": "stream",
     "text": [
      " Averge trip length for Washington DC is 18.93 minutes.\n",
      " Averge trip length for NYC is 15.81 minutes.\n",
      " Averge trip length for Chicago is 16.56 minutes. \n",
      " Proportion for long rides Washington DC is 18.932873559137203.\n",
      " Proportion for long rides for NYC is 15.81259299802269.\n",
      " Proportion for long rides for Chicago is 16.56362936878731. \n"
     ]
    }
   ],
   "source": [
    "## Use this and additional cells to answer Question 4b.                 ##\n",
    "##                                                                      ##\n",
    "## HINT: The csv module reads in all of the data as strings, including  ##\n",
    "## numeric values. You will need a function to convert the strings      ##\n",
    "## into an appropriate numeric type before you aggregate data.          ##\n",
    "## TIP: For the Bay Area example, the average trip length is 14 minutes ##\n",
    "## and 3.5% of trips are longer than 30 minutes.                        ##\n",
    "\n",
    "\n",
    "\n",
    "def len_of_trips(file_name):\n",
    "    \"\"\"\n",
    "    This function reads a trip_data from a file.The results are the Total number of trips and Average.\n",
    "    \"\"\"\n",
    "    with open(file_name, 'r') as f_in:\n",
    "        # set up csv reader object\n",
    "        trip_reader = csv.DictReader(f_in)\n",
    "        \n",
    "        # count variables        \n",
    "        Long_Ride=0\n",
    "        Short_Ride=0\n",
    "        Total_Short_Time=0 \n",
    "        Total_Long_Time=0\n",
    "        \n",
    "        \n",
    "        for row in trip_reader:\n",
    "            if float(row['duration']) <= 30:\n",
    "                Short_Ride += 1\n",
    "                Total_Short_Time += float(row['duration'])\n",
    "            else:\n",
    "                Long_Ride += 1\n",
    "                Total_Long_Time +=float(row['duration'])\n",
    "        \n",
    "        # Total number of rides\n",
    "        total_Rides = Long_Ride + Short_Ride \n",
    "        total_Time = Total_Short_Time + Total_Long_Time ## Total duration\n",
    "        \n",
    "        Avg_tr = total_Time/total_Rides\n",
    "        Long_Ride_Percent = Long_Ride/total_Rides\n",
    "        Short_Ride_Percent = Short_Ride/total_Rides\n",
    "        \n",
    "       \n",
    "        return(total_Time, total_Rides , Avg_tr,Long_Ride_Percent,Short_Ride_Percent)\n",
    "    \n",
    "    # Second Get real data from function\n",
    "    \n",
    "\n",
    "\n",
    "    \n",
    "Avg_len_list = {\n",
    "\"Wash\":len_of_trips(Wash_file)[2],\n",
    "\"NYC\": len_of_trips(NYC_file)[2],\n",
    "\"Chicago\":len_of_trips(Chic_file)[2]\n",
    "}\n",
    "\n",
    "long_Percent_list = {\n",
    "\"Wash\":len_of_trips(Wash_file)[3],\n",
    "\"NYC\": len_of_trips(NYC_file)[3],\n",
    "\"Chicago\":len_of_trips(Chic_file)[3]\n",
    "}\n",
    "\n",
    "\n",
    "print(' Averge trip length for Washington DC is {:.2f} minutes.\\n Averge trip length for NYC is {:.2f} minutes.\\n Averge trip length for Chicago is {:.2f} minutes. '\n",
    "     .format(Avg_len_list['Wash'],Avg_len_list['NYC'],Avg_len_list['Chicago']))\n",
    "    \n",
    "\n",
    "print(' Proportion for long rides Washington DC is {}.\\n Proportion for long rides for NYC is {}.\\n Proportion for long rides for Chicago is {}. '\n",
    "     .format(Avg_len_list['Wash'],Avg_len_list['NYC'],Avg_len_list['Chicago']))\n",
    "    \n"
   ]
  },
  {
   "cell_type": "markdown",
   "metadata": {},
   "source": [
    "**Question 4c**: Dig deeper into the question of trip duration based on ridership. Choose one city. Within that city, which type of user takes longer rides on average: Subscribers or Customers?\n",
    "\n",
    "**Answer**: Replace this text with your response!"
   ]
  },
  {
   "cell_type": "code",
   "execution_count": 11,
   "metadata": {},
   "outputs": [
    {
     "name": "stdout",
     "output_type": "stream",
     "text": [
      "NYC customers takes longer rides on average. Average Customer trip duration: 8.96 minutes, And average Subscriber trip duration: 1.13 minutes\n"
     ]
    }
   ],
   "source": [
    "## Use this and additional cells to answer Question 4c. If you have    ##\n",
    "## not done so yet, consider revising some of your previous code to    ##\n",
    "## make use of functions for reusability.                              ##\n",
    "##                                                                     ##\n",
    "## TIP: For the Bay Area example data, you should find the average     ##\n",
    "## Subscriber trip duration to be 9.5 minutes and the average Customer ##\n",
    "## trip duration to be 54.6 minutes. Do the other cities have this     ##\n",
    "## level of difference?                                                ##\n",
    "\n",
    "\n",
    "AvgDurCus = number_of_trips(NYC_file)[2]/number_of_trips(NYC_file)[1]\n",
    "AvgDurSub = number_of_trips(NYC_file)[2]/number_of_trips(NYC_file)[0]\n",
    "\n",
    "if AvgDurCus > AvgDurSub:\n",
    "    print('NYC customers takes longer rides on average. Average Customer trip duration: {:.2f} minutes, And average Subscriber trip duration: {:.2f} minutes'.format(AvgDurCus,AvgDurSub))\n",
    "else:\n",
    "    print('NYC subscribers takes longer rides on average. Average Customer trip duration : {:.2f} minutes, And average Subscriber trip duration : {:.2f} minutes'.format(AvgDurCus,AvgDurSub))\n",
    "\n"
   ]
  },
  {
   "cell_type": "markdown",
   "metadata": {},
   "source": [
    "<a id='visualizations'></a>\n",
    "### Visualizations\n",
    "\n",
    "The last set of values that you computed should have pulled up an interesting result. While the mean trip time for Subscribers is well under 30 minutes, the mean trip time for Customers is actually _above_ 30 minutes! It will be interesting for us to look at how the trip times are distributed. In order to do this, a new library will be introduced here, `matplotlib`. Run the cell below to load the library and to generate an example plot."
   ]
  },
  {
   "cell_type": "code",
   "execution_count": 12,
   "metadata": {},
   "outputs": [
    {
     "data": {
      "image/png": "[encoded data removed]",
      "text/plain": [
       "<matplotlib.figure.Figure at 0x1f7df2370b8>"
      ]
     },
     "metadata": {
      "needs_background": "light"
     },
     "output_type": "display_data"
    }
   ],
   "source": [
    "# load library\n",
    "import matplotlib.pyplot as plt\n",
    "\n",
    "# this is a 'magic word' that allows for plots to be displayed\n",
    "# inline with the notebook. If you want to know more, see:\n",
    "# http://ipython.readthedocs.io/en/stable/interactive/magics.html\n",
    "%matplotlib inline \n",
    "\n",
    "# example histogram, data taken from bay area sample\n",
    "data = [ 7.65,  8.92,  7.42,  5.50, 16.17,  4.20,  8.98,  9.62, 11.48, 14.33,\n",
    "        19.02, 21.53,  3.90,  7.97,  2.62,  2.67,  3.08, 14.40, 12.90,  7.83,\n",
    "        25.12,  8.30,  4.93, 12.43, 10.60,  6.17, 10.88,  4.78, 15.15,  3.53,\n",
    "         9.43, 13.32, 11.72,  9.85,  5.22, 15.10,  3.95,  3.17,  8.78,  1.88,\n",
    "         4.55, 12.68, 12.38,  9.78,  7.63,  6.45, 17.38, 11.90, 11.52,  8.63,]\n",
    "plt.hist(data)\n",
    "plt.title('Distribution of Trip Durations')\n",
    "plt.xlabel('Duration (m)')\n",
    "plt.show()"
   ]
  },
  {
   "cell_type": "markdown",
   "metadata": {},
   "source": [
    "In the above cell, we collected fifty trip times in a list, and passed this list as the first argument to the `.hist()` function. This function performs the computations and creates plotting objects for generating a histogram, but the plot is actually not rendered until the `.show()` function is executed. The `.title()` and `.xlabel()` functions provide some labeling for plot context.\n",
    "\n",
    "You will now use these functions to create a histogram of the trip times for the city you selected in question 4c. Don't separate the Subscribers and Customers for now: just collect all of the trip times and plot them."
   ]
  },
  {
   "cell_type": "code",
   "execution_count": 13,
   "metadata": {},
   "outputs": [
    {
     "data": {
      "image/png": "[encoded data removed]",
      "text/plain": [
       "<matplotlib.figure.Figure at 0x1f7e0202e10>"
      ]
     },
     "metadata": {
      "needs_background": "light"
     },
     "output_type": "display_data"
    }
   ],
   "source": [
    "## Use this and additional cells to collect all of the trip times as a list ##\n",
    "## and then use pyplot functions to generate a histogram of trip times.     ##\n",
    "\n",
    "def list_trips(filename):\n",
    "    \"\"\"\n",
    "    This function takes a file as an input then reads the trips made by \n",
    "    subscribers, customers, and total overall.\n",
    "    \"\"\"\n",
    "    trip_data=[]\n",
    "\n",
    "    with open(filename, 'r') as f_in:\n",
    "        # set up csv reader object\n",
    "        reader = csv.DictReader(f_in)\n",
    "        \n",
    "        # tally up duration\n",
    "        for row in reader:\n",
    "            trip_data.append(float(row['duration']))\n",
    "        return trip_data\n",
    "    \n",
    "bins =[0,10,20,30,40,50,60,70,80,90,100,110,120,130,140,150,150,170,180,190,200,210]\n",
    "\n",
    "plt.hist(list_trips(NYC_file),bins)\n",
    "plt.title('Distribution of NYC Trip Durations')\n",
    "plt.xlabel('Duration (mins)')\n",
    "plt.show()"
   ]
  },
  {
   "cell_type": "markdown",
   "metadata": {},
   "source": [
    "If you followed the use of the `.hist()` and `.show()` functions exactly like in the example, you're probably looking at a plot that's completely unexpected. The plot consists of one extremely tall bar on the left, maybe a very short second bar, and a whole lot of empty space in the center and right. Take a look at the duration values on the x-axis. This suggests that there are some highly infrequent outliers in the data. Instead of reprocessing the data, you will use additional parameters with the `.hist()` function to limit the range of data that is plotted. Documentation for the function can be found [[here]](https://matplotlib.org/devdocs/api/_as_gen/matplotlib.pyplot.hist.html#matplotlib.pyplot.hist).\n",
    "\n",
    "**Question 5**: Use the parameters of the `.hist()` function to plot the distribution of trip times for the Subscribers in your selected city. Do the same thing for only the Customers. Add limits to the plots so that only trips of duration less than 75 minutes are plotted. As a bonus, set the plots up so that bars are in five-minute wide intervals. For each group, where is the peak of each distribution? How would you describe the shape of each distribution?\n",
    "\n",
    "**Answer**: <br>\n",
    "Subscriber in NYC have peak in 5 to 8 minutes. On the otherhand, customers  have peak in 15 to 25. The plots both of them are right skewed"
   ]
  },
  {
   "cell_type": "code",
   "execution_count": 14,
   "metadata": {},
   "outputs": [
    {
     "name": "stderr",
     "output_type": "stream",
     "text": [
      "No handles with labels found to put in legend.\n"
     ]
    },
    {
     "data": {
      "image/png": "[encoded data removed]",
      "text/plain": [
       "<matplotlib.figure.Figure at 0x1f7e022dac8>"
      ]
     },
     "metadata": {
      "needs_background": "light"
     },
     "output_type": "display_data"
    },
    {
     "ename": "FileNotFoundError",
     "evalue": "[Errno 2] No such file or directory: './examples/BayArea-Y3-Summary.csv'",
     "output_type": "error",
     "traceback": [
      "\u001b[1;31m---------------------------------------------------------------------------\u001b[0m",
      "\u001b[1;31mFileNotFoundError\u001b[0m                         Traceback (most recent call last)",
      "\u001b[1;32m<ipython-input-14-37b4c3aa92f2>\u001b[0m in \u001b[0;36m<module>\u001b[1;34m()\u001b[0m\n\u001b[0;32m     29\u001b[0m \u001b[1;33m\u001b[0m\u001b[0m\n\u001b[0;32m     30\u001b[0m \u001b[1;33m\u001b[0m\u001b[0m\n\u001b[1;32m---> 31\u001b[1;33m \u001b[0mplt\u001b[0m\u001b[1;33m.\u001b[0m\u001b[0mhist\u001b[0m\u001b[1;33m(\u001b[0m\u001b[0mlist_trips\u001b[0m\u001b[1;33m(\u001b[0m\u001b[0mdata_file\u001b[0m\u001b[1;33m)\u001b[0m\u001b[1;33m[\u001b[0m\u001b[1;36m1\u001b[0m\u001b[1;33m]\u001b[0m\u001b[1;33m,\u001b[0m\u001b[0mbins\u001b[0m\u001b[1;33m,\u001b[0m\u001b[0mhisttype\u001b[0m\u001b[1;33m=\u001b[0m\u001b[1;34m'bar'\u001b[0m\u001b[1;33m,\u001b[0m\u001b[0mrwidth\u001b[0m\u001b[1;33m=\u001b[0m\u001b[1;36m0.7\u001b[0m\u001b[1;33m)\u001b[0m\u001b[1;33m\u001b[0m\u001b[0m\n\u001b[0m\u001b[0;32m     32\u001b[0m \u001b[0mplt\u001b[0m\u001b[1;33m.\u001b[0m\u001b[0mtitle\u001b[0m\u001b[1;33m(\u001b[0m\u001b[1;34m'Distribution of NYC Customer Trip Durations'\u001b[0m\u001b[1;33m)\u001b[0m\u001b[1;33m\u001b[0m\u001b[0m\n\u001b[0;32m     33\u001b[0m \u001b[0mplt\u001b[0m\u001b[1;33m.\u001b[0m\u001b[0mxlabel\u001b[0m\u001b[1;33m(\u001b[0m\u001b[1;34m'Duration (mins)'\u001b[0m\u001b[1;33m)\u001b[0m\u001b[1;33m\u001b[0m\u001b[0m\n",
      "\u001b[1;32m<ipython-input-14-37b4c3aa92f2>\u001b[0m in \u001b[0;36mlist_trips\u001b[1;34m(fileName)\u001b[0m\n\u001b[0;32m      5\u001b[0m \u001b[1;32mdef\u001b[0m \u001b[0mlist_trips\u001b[0m\u001b[1;33m(\u001b[0m\u001b[0mfileName\u001b[0m\u001b[1;33m)\u001b[0m\u001b[1;33m:\u001b[0m\u001b[1;33m\u001b[0m\u001b[0m\n\u001b[0;32m      6\u001b[0m \u001b[1;33m\u001b[0m\u001b[0m\n\u001b[1;32m----> 7\u001b[1;33m     \u001b[1;32mwith\u001b[0m \u001b[0mopen\u001b[0m\u001b[1;33m(\u001b[0m\u001b[0mfileName\u001b[0m\u001b[1;33m,\u001b[0m \u001b[1;34m'r'\u001b[0m\u001b[1;33m)\u001b[0m \u001b[1;32mas\u001b[0m \u001b[0mf_in\u001b[0m\u001b[1;33m:\u001b[0m\u001b[1;33m\u001b[0m\u001b[0m\n\u001b[0m\u001b[0;32m      8\u001b[0m         \u001b[1;31m# set up csv reader object\u001b[0m\u001b[1;33m\u001b[0m\u001b[1;33m\u001b[0m\u001b[0m\n\u001b[0;32m      9\u001b[0m         \u001b[0mreader\u001b[0m \u001b[1;33m=\u001b[0m \u001b[0mcsv\u001b[0m\u001b[1;33m.\u001b[0m\u001b[0mDictReader\u001b[0m\u001b[1;33m(\u001b[0m\u001b[0mf_in\u001b[0m\u001b[1;33m)\u001b[0m\u001b[1;33m\u001b[0m\u001b[0m\n",
      "\u001b[1;31mFileNotFoundError\u001b[0m: [Errno 2] No such file or directory: './examples/BayArea-Y3-Summary.csv'"
     ]
    }
   ],
   "source": [
    "## Use this and additional cells to answer Question 5. ##\n",
    "\n",
    "substriber_data=[]\n",
    "customer_data=[]\n",
    "def list_trips(fileName):\n",
    "\n",
    "    with open(fileName, 'r') as f_in:\n",
    "        # set up csv reader object\n",
    "        reader = csv.DictReader(f_in)\n",
    "        \n",
    "        # tally up ride types\n",
    "        for row in reader:\n",
    "            if row['user_type'] == 'Subscriber':\n",
    "                substriber_data.append(float(row['duration']))\n",
    "            else:\n",
    "                customer_data.append(float(row['duration']))\n",
    "        return (substriber_data,customer_data)\n",
    "    \n",
    "bins =[0,2,4,6,8,10,12,14,16,18,20,22,24,26,28,30,32,34,36,38,40,42,44,46,48,50,52,54,56,58,60,62,64,66,68,70]\n",
    "\n",
    "plt.hist(list_trips(NYC_file)[0],bins,histtype='bar',rwidth=0.7)\n",
    "plt.title('Distribution of NYC Subscriber Trip Durations')\n",
    "plt.xlabel('Duration (mins)')\n",
    "plt.ylabel('Rides', fontsize=12)\n",
    "plt.xticks(fontsize=12)  \n",
    "plt.yticks(fontsize=12)\n",
    "plt.legend()\n",
    "plt.show()\n",
    "\n",
    "\n",
    "plt.hist(list_trips(data_file)[1],bins,histtype='bar',rwidth=0.7)\n",
    "plt.title('Distribution of NYC Customer Trip Durations')\n",
    "plt.xlabel('Duration (mins)')\n",
    "plt.ylabel('Rides', fontsize=12)\n",
    "plt.xticks(fontsize=12)  \n",
    "plt.yticks(fontsize=12)\n",
    "plt.legend()\n",
    "plt.show()\n"
   ]
  },
  {
   "cell_type": "markdown",
   "metadata": {
    "collapsed": true
   },
   "source": [
    "<a id='eda_continued'></a>\n",
    "## Performing Your Own Analysis\n",
    "\n",
    "So far, you've performed an initial exploration into the data available. You have compared the relative volume of trips made between three U.S. cities and the ratio of trips made by Subscribers and Customers. For one of these cities, you have investigated differences between Subscribers and Customers in terms of how long a typical trip lasts. Now it is your turn to continue the exploration in a direction that you choose. Here are a few suggestions for questions to explore:\n",
    "\n",
    "- How does ridership differ by month or season? Which month / season has the highest ridership? Does the ratio of Subscriber trips to Customer trips change depending on the month or season?\n",
    "- Is the pattern of ridership different on the weekends versus weekdays? On what days are Subscribers most likely to use the system? What about Customers? Does the average duration of rides change depending on the day of the week?\n",
    "- During what time of day is the system used the most? Is there a difference in usage patterns for Subscribers and Customers?\n",
    "\n",
    "If any of the questions you posed in your answer to question 1 align with the bullet points above, this is a good opportunity to investigate one of them. As part of your investigation, you will need to create a visualization. If you want to create something other than a histogram, then you might want to consult the [Pyplot documentation](https://matplotlib.org/devdocs/api/pyplot_summary.html). In particular, if you are plotting values across a categorical variable (e.g. city, user type), a bar chart will be useful. The [documentation page for `.bar()`](https://matplotlib.org/devdocs/api/_as_gen/matplotlib.pyplot.bar.html#matplotlib.pyplot.bar) includes links at the bottom of the page with examples for you to build off of for your own use.\n",
    "\n",
    "**Question 6**: Continue the investigation by exploring another question that could be answered by the data available. Document the question you want to explore below. Your investigation should involve at least two variables and should compare at least two groups. You should also use at least one visualization as part of your explorations.\n",
    "\n",
    "**Answer**: \n",
    "<br><br>\n",
    "<b> Q: Is the pattern of ridership different on the weekends vs. weekdays? </b>\n",
    "<br> <p>\n",
    "A: As showen below there are alot of similarities for each type of trip, 5-10 munites trips are the most. also, all of them are right skewed. On the otherhand, Chicago city have the largest difference, we can see the large amount of trips in the period between 10- 20 Minutes in the weekends. </p>"
   ]
  },
  {
   "cell_type": "code",
   "execution_count": 18,
   "metadata": {},
   "outputs": [
    {
     "data": {
      "image/png": "[encoded data removed]",
      "text/plain": [
       "<matplotlib.figure.Figure at 0x1f7e0c97e10>"
      ]
     },
     "metadata": {
      "needs_background": "light"
     },
     "output_type": "display_data"
    },
    {
     "data": {
      "image/png": "[encoded data removed]",
      "text/plain": [
       "<matplotlib.figure.Figure at 0x1f7e0c47588>"
      ]
     },
     "metadata": {
      "needs_background": "light"
     },
     "output_type": "display_data"
    },
    {
     "data": {
      "image/png": "[encoded data removed]",
      "text/plain": [
       "<matplotlib.figure.Figure at 0x1f7e15856a0>"
      ]
     },
     "metadata": {
      "needs_background": "light"
     },
     "output_type": "display_data"
    },
    {
     "data": {
      "image/png": "[encoded data removed]",
      "text/plain": [
       "<matplotlib.figure.Figure at 0x1f7e0c78a20>"
      ]
     },
     "metadata": {
      "needs_background": "light"
     },
     "output_type": "display_data"
    },
    {
     "data": {
      "image/png": "[encoded data removed]",
      "text/plain": [
       "<matplotlib.figure.Figure at 0x1f7e1488518>"
      ]
     },
     "metadata": {
      "needs_background": "light"
     },
     "output_type": "display_data"
    },
    {
     "data": {
      "image/png": "[encoded data removed]",
      "text/plain": [
       "<matplotlib.figure.Figure at 0x1f7e15857b8>"
      ]
     },
     "metadata": {
      "needs_background": "light"
     },
     "output_type": "display_data"
    }
   ],
   "source": [
    "## Use this and additional cells to continue to explore the dataset. ##\n",
    "## Once you have performed your exploration, document your findings  ##\n",
    "## in the Markdown cell above.                                       ##\n",
    "\n",
    "def Dur_by_day_type(fileName, day_type,city_name,PlotColor):\n",
    "    '''\n",
    "    This function plots a histogram for given city with a given day type ... Weekend or Weekday\n",
    "    '''\n",
    "    \n",
    "    with open(fileName, 'r') as f_in:\n",
    "        reader = csv.DictReader(f_in)\n",
    "        durations = []\n",
    "        \n",
    "        for row in reader:\n",
    "            if day_type == 'Weekend':                \n",
    "                if row['day_of_week'] == 'Saturday' or row['day_of_week'] == 'Sunday':\n",
    "                    durations.append( float( row['duration'] ) )\n",
    "            else: # now check if it is weekdays\n",
    "                if row['day_of_week'] == 'Monday' or row['day_of_week'] == 'Tuesday' or row['day_of_week'] == 'Wednesday' or row['day_of_week'] == 'Thursday' or row['day_of_week'] == 'Friday':\n",
    "                    durations.append( float( row['duration'] ) )\n",
    "            \n",
    "        bins =[0,2,4,6,8,10,12,14,16,18,20,22,24,26,28,30,32,34,36,38,40,42,44,46,48,50,52,54,56,58,60,62,64,66,68,70]\n",
    "        plt.hist(durations,bins,histtype='bar',rwidth=0.7,color=PlotColor)\n",
    "        plt.title('Durations of Trips for all {} Riders on {} '.format(city_name, day_type), fontsize=13)\n",
    "        plt.xlabel('Duration (mins)', fontsize=12)\n",
    "        plt.ylabel('Trips', fontsize=12)\n",
    "        plt.xticks(fontsize=10)  \n",
    "        plt.yticks(fontsize=10)\n",
    "     \n",
    "        plt.show()\n",
    "        \n",
    "Dur_by_day_type(NYC_file,'Weekend','NYC','blue')\n",
    "Dur_by_day_type(NYC_file,'Weekday','NYC','blue')\n",
    "\n",
    "Dur_by_day_type(Wash_file,'Weekend','Washington','green')\n",
    "Dur_by_day_type(Wash_file,'Weekday','Washington','green')\n",
    "\n",
    "Dur_by_day_type(Chic_file,'Weekend','Chicago','red')\n",
    "Dur_by_day_type(Chic_file,'Weekday','Chicago','red')"
   ]
  },
  {
   "cell_type": "markdown",
   "metadata": {},
   "source": [
    "<a id='conclusions'></a>\n",
    "## Conclusions\n",
    "\n",
    "Congratulations on completing the project! This is only a sampling of the data analysis process: from generating questions, wrangling the data, and to exploring the data. Normally, at this point in the data analysis process, you might want to draw conclusions about the data by performing a statistical test or fitting the data to a model for making predictions. There are also a lot of potential analyses that could be performed on the data which are not possible with only the data provided. For example, detailed location data has not been investigated. Where are the most commonly used docks? What are the most common routes? As another example, weather has potential to have a large impact on daily ridership. How much is ridership impacted when there is rain or snow? Are subscribers or customers affected more by changes in weather?\n",
    "\n",
    "**Question 7**: Putting the bike share data aside, think of a topic or field of interest where you would like to be able to apply the techniques of data science. What would you like to be able to learn from your chosen subject?\n",
    "\n",
    "**Answer**: In the real life, my current position as IT Specialist at Jana Marine Services Co. I need data analysis to convert the data of our progress to a useful charts which will be helpful in the meetings of the mangment and making decisions easliy. such as, data of ships, sailors, technicals, and the most problems facing them continuouncly.\n",
    "\n",
    "> **Tip**: If we want to share the results of our analysis with others, we aren't limited to giving them a copy of the jupyter Notebook (.ipynb) file. We can also export the Notebook output in a form that can be opened even for those without Python installed. From the **File** menu in the upper left, go to the **Download as** submenu. You can then choose a different format that can be viewed more generally, such as HTML (.html) or\n",
    "PDF (.pdf). You may need additional packages or software to perform these exports.\n",
    "\n",
    "> If you are working on this project via the Project Notebook page in the classroom, you can also submit this project directly from the workspace. **Before you do that**, you should save an HTML copy of the completed project to the workspace by running the code cell below. If it worked correctly, the output code should be a 0, and if you click on the jupyter icon in the upper left, you should see your .html document in the workspace directory. Alternatively, you can download the .html copy of your report following the steps in the previous paragraph, then _upload_ the report to the directory (by clicking the jupyter icon).\n",
    "\n",
    "> Either way, once you've gotten the .html report in your workspace, you can complete your submission by clicking on the \"Submit Project\" button to the lower-right hand side of the workspace."
   ]
  },
  {
   "cell_type": "code",
   "execution_count": null,
   "metadata": {},
   "outputs": [],
   "source": [
    "from subprocess import call\n",
    "call(['python', '-m', 'nbconvert', 'Bike_Share_Analysis.ipynb'])"
   ]
  }
 ],
 "metadata": {
  "anaconda-cloud": {},
  "kernelspec": {
   "display_name": "Python 3",
   "language": "python",
   "name": "python3"
  },
  "language_info": {
   "codemirror_mode": {
    "name": "ipython",
    "version": 3
   },
   "file_extension": ".py",
   "mimetype": "text/x-python",
   "name": "python",
   "nbconvert_exporter": "python",
   "pygments_lexer": "ipython3",
   "version": "3.6.4"
  }
 },
 "nbformat": 4,
 "nbformat_minor": 1
}
